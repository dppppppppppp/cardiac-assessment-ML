{
 "cells": [
  {
   "cell_type": "code",
   "execution_count": 2,
   "metadata": {},
   "outputs": [
    {
     "name": "stdout",
     "output_type": "stream",
     "text": [
      "SVC:\n",
      "Accuracy: 0.5936\n",
      "RandomForestClassifier:\n",
      "Accuracy: 0.7282\n",
      "KNeighborsClassifier:\n",
      "Accuracy: 0.5587\n",
      "XGBClassifier:\n",
      "Accuracy: 0.7351\n",
      "CatBoostClassifier:\n",
      "Accuracy: 0.7392\n"
     ]
    }
   ],
   "source": [
    "import pandas as pd\n",
    "from sklearn.ensemble import RandomForestClassifier\n",
    "from sklearn.neighbors import KNeighborsClassifier\n",
    "from sklearn.svm import SVC\n",
    "from xgboost import XGBClassifier\n",
    "from catboost import CatBoostClassifier\n",
    "from sklearn.metrics import accuracy_score\n",
    "from sklearn.model_selection import train_test_split\n",
    "\n",
    "data = pd.read_csv('cardio_train\\cardio_train.csv')\n",
    "\n",
    "X = data.drop('cardio', axis=1)\n",
    "y = data['cardio']\n",
    "\n",
    "X_train, X_temp, y_train, y_temp = train_test_split(X, y, test_size=0.2857, random_state=42)\n",
    "X_valid, X_test, y_valid, y_test = train_test_split(X_temp, y_temp, test_size=0.5, random_state=42)\n",
    "\n",
    "\n",
    "model_svm = SVC()\n",
    "model_svm.fit(X_train, y_train)\n",
    "y_valid_pred = model_svm.predict(X_valid)\n",
    "accuracy_valid = accuracy_score(y_valid, y_valid_pred)\n",
    "print(f\"SVC:\\nAccuracy: {accuracy_valid:.4f}\")\n",
    "\n",
    "\n",
    "model_rf = RandomForestClassifier()\n",
    "model_rf.fit(X_train, y_train)\n",
    "y_valid_pred = model_rf.predict(X_valid)\n",
    "accuracy_valid = accuracy_score(y_valid, y_valid_pred)\n",
    "print(f\"RandomForestClassifier:\\nAccuracy: {accuracy_valid:.4f}\")\n",
    "\n",
    "\n",
    "model_knn = KNeighborsClassifier()\n",
    "model_knn.fit(X_train, y_train)\n",
    "y_valid_pred = model_knn.predict(X_valid)\n",
    "accuracy_valid = accuracy_score(y_valid, y_valid_pred)\n",
    "print(f\"KNeighborsClassifier:\\nAccuracy: {accuracy_valid:.4f}\")\n",
    "\n",
    "\n",
    "model_xgb = XGBClassifier()\n",
    "model_xgb.fit(X_train, y_train)\n",
    "y_valid_pred = model_xgb.predict(X_valid)\n",
    "accuracy_valid = accuracy_score(y_valid, y_valid_pred)\n",
    "print(f\"XGBClassifier:\\nAccuracy: {accuracy_valid:.4f}\")\n",
    "\n",
    "\n",
    "catboost_model = CatBoostClassifier(random_seed=42, verbose=False, task_type=\"GPU\")\n",
    "catboost_model.fit(X_train, y_train)\n",
    "y_valid_pred = catboost_model.predict(X_valid)\n",
    "accuracy_valid = accuracy_score(y_valid, y_valid_pred)\n",
    "print(f\"CatBoostClassifier:\\nAccuracy: {accuracy_valid:.4f}\")"
   ]
  },
  {
   "cell_type": "markdown",
   "metadata": {},
   "source": [
    "### CatBoostClassifier показал больше всех accuracy, значит будем использовать в дальнейшем именно эту модель, меняя гиперпараметры "
   ]
  }
 ],
 "metadata": {
  "kernelspec": {
   "display_name": "Python 3",
   "language": "python",
   "name": "python3"
  },
  "language_info": {
   "codemirror_mode": {
    "name": "ipython",
    "version": 3
   },
   "file_extension": ".py",
   "mimetype": "text/x-python",
   "name": "python",
   "nbconvert_exporter": "python",
   "pygments_lexer": "ipython3",
   "version": "3.10.5"
  }
 },
 "nbformat": 4,
 "nbformat_minor": 2
}
